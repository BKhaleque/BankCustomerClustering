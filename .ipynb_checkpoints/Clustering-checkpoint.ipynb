{
 "cells": [
  {
   "cell_type": "code",
   "execution_count": 1,
   "id": "8e00c788",
   "metadata": {},
   "outputs": [
    {
     "name": "stdout",
     "output_type": "stream",
     "text": [
      "3.31.1\n"
     ]
    }
   ],
   "source": [
    "import sqlite3\n",
    "\n",
    "def create_sqlite_database(filename):\n",
    "    \"\"\" create a database connection to an SQLite database \"\"\"\n",
    "    conn = None\n",
    "    try:\n",
    "        conn = sqlite3.connect(filename)\n",
    "        print(sqlite3.sqlite_version)\n",
    "    except sqlite3.Error as e:\n",
    "        print(e)\n",
    "    finally:\n",
    "        if conn:\n",
    "            conn.close()\n",
    "\n",
    "\n",
    "create_sqlite_database(\"my.db\")"
   ]
  },
  {
   "cell_type": "code",
   "execution_count": 8,
   "id": "db658b5a",
   "metadata": {},
   "outputs": [
    {
     "name": "stdout",
     "output_type": "stream",
     "text": [
      "       age           job  marital  education default  balance housing loan  \\\n",
      "0       58    management  married   tertiary      no     2143     yes   no   \n",
      "1       44    technician   single  secondary      no       29     yes   no   \n",
      "2       33  entrepreneur  married  secondary      no        2     yes  yes   \n",
      "3       47   blue-collar  married    unknown      no     1506     yes   no   \n",
      "4       33       unknown   single    unknown      no        1      no   no   \n",
      "...    ...           ...      ...        ...     ...      ...     ...  ...   \n",
      "42634   21       student   single  secondary      no     2488      no   no   \n",
      "42635   87       retired  married    primary      no     2190      no   no   \n",
      "42636   34   blue-collar  married    primary      no     6718      no   no   \n",
      "42637   22       student   single  secondary      no      254      no   no   \n",
      "42638   32    management   single   tertiary      no     1962      no   no   \n",
      "\n",
      "         contact  day month  duration  campaign  pdays  previous poutcome  \\\n",
      "0        unknown    5   may       261         1     -1         0  unknown   \n",
      "1        unknown    5   may       151         1     -1         0  unknown   \n",
      "2        unknown    5   may        76         1     -1         0  unknown   \n",
      "3        unknown    5   may        92         1     -1         0  unknown   \n",
      "4        unknown    5   may       198         1     -1         0  unknown   \n",
      "...          ...  ...   ...       ...       ...    ...       ...      ...   \n",
      "42634  telephone   12   jan       661         2     92         1  success   \n",
      "42635  telephone   12   jan       512         2     -1         0  unknown   \n",
      "42636   cellular   13   jan       278         4     97         1    other   \n",
      "42637   cellular   13   jan       143         2     -1         0  unknown   \n",
      "42638   cellular   13   jan       130         1     -1         0  unknown   \n",
      "\n",
      "      term_deposit     id  \n",
      "0               no      1  \n",
      "1               no      2  \n",
      "2               no      3  \n",
      "3               no      4  \n",
      "4               no      5  \n",
      "...            ...    ...  \n",
      "42634          yes  42635  \n",
      "42635          yes  42636  \n",
      "42636           no  42637  \n",
      "42637          yes  42638  \n",
      "42638           no  42639  \n",
      "\n",
      "[42639 rows x 18 columns]\n"
     ]
    }
   ],
   "source": [
    "import pandas as pd\n",
    "dataPath = 'BankCustomerData.csv'\n",
    "\n",
    "df = pd.read_csv(dataPath)\n",
    "df[\"id\"] = df.index + 1\n",
    "print(df)"
   ]
  },
  {
   "cell_type": "code",
   "execution_count": 10,
   "id": "82dc2d45",
   "metadata": {},
   "outputs": [],
   "source": [
    "conn = sqlite3.connect(\"my.db\")\n",
    "sql_data = df.to_sql(name = \"data_2nf\", con = conn, if_exists='replace', index=True)\n"
   ]
  },
  {
   "cell_type": "code",
   "execution_count": 11,
   "id": "661b4766",
   "metadata": {},
   "outputs": [],
   "source": [
    "tables = pd.read_sql(\"\"\" SELECT * FROM sqlite_master WHERE type = 'table'; \"\"\", conn)"
   ]
  },
  {
   "cell_type": "code",
   "execution_count": 12,
   "id": "e32a10fc",
   "metadata": {},
   "outputs": [
    {
     "name": "stdout",
     "output_type": "stream",
     "text": [
      "    type      name  tbl_name  rootpage  \\\n",
      "0  table         t         t         2   \n",
      "1  table      data      data         3   \n",
      "2  table       job       job      1740   \n",
      "3  table  data_2nf  data_2nf      4359   \n",
      "\n",
      "                                                 sql  \n",
      "0                        CREATE TABLE t (col1, col2)  \n",
      "1  CREATE TABLE \"data\" (\\n\"age\" INTEGER,\\n  \"job\"...  \n",
      "2  CREATE TABLE \"job\" (\\n\"age\" INTEGER,\\n  \"job\" ...  \n",
      "3  CREATE TABLE \"data_2nf\" (\\n\"index\" INTEGER,\\n ...  \n"
     ]
    }
   ],
   "source": [
    "print(tables)"
   ]
  },
  {
   "cell_type": "code",
   "execution_count": 13,
   "id": "1ecb9586",
   "metadata": {},
   "outputs": [
    {
     "name": "stdout",
     "output_type": "stream",
     "text": [
      "       index  age           job  marital  education default  balance housing  \\\n",
      "0          0   58    management  married   tertiary      no     2143     yes   \n",
      "1          1   44    technician   single  secondary      no       29     yes   \n",
      "2          2   33  entrepreneur  married  secondary      no        2     yes   \n",
      "3          3   47   blue-collar  married    unknown      no     1506     yes   \n",
      "4          4   33       unknown   single    unknown      no        1      no   \n",
      "...      ...  ...           ...      ...        ...     ...      ...     ...   \n",
      "42634  42634   21       student   single  secondary      no     2488      no   \n",
      "42635  42635   87       retired  married    primary      no     2190      no   \n",
      "42636  42636   34   blue-collar  married    primary      no     6718      no   \n",
      "42637  42637   22       student   single  secondary      no      254      no   \n",
      "42638  42638   32    management   single   tertiary      no     1962      no   \n",
      "\n",
      "      loan    contact  day month  duration  campaign  pdays  previous  \\\n",
      "0       no    unknown    5   may       261         1     -1         0   \n",
      "1       no    unknown    5   may       151         1     -1         0   \n",
      "2      yes    unknown    5   may        76         1     -1         0   \n",
      "3       no    unknown    5   may        92         1     -1         0   \n",
      "4       no    unknown    5   may       198         1     -1         0   \n",
      "...    ...        ...  ...   ...       ...       ...    ...       ...   \n",
      "42634   no  telephone   12   jan       661         2     92         1   \n",
      "42635   no  telephone   12   jan       512         2     -1         0   \n",
      "42636   no   cellular   13   jan       278         4     97         1   \n",
      "42637   no   cellular   13   jan       143         2     -1         0   \n",
      "42638   no   cellular   13   jan       130         1     -1         0   \n",
      "\n",
      "      poutcome term_deposit     id  \n",
      "0      unknown           no      1  \n",
      "1      unknown           no      2  \n",
      "2      unknown           no      3  \n",
      "3      unknown           no      4  \n",
      "4      unknown           no      5  \n",
      "...        ...          ...    ...  \n",
      "42634  success          yes  42635  \n",
      "42635  unknown          yes  42636  \n",
      "42636    other           no  42637  \n",
      "42637  unknown          yes  42638  \n",
      "42638  unknown           no  42639  \n",
      "\n",
      "[42639 rows x 19 columns]\n"
     ]
    }
   ],
   "source": [
    "customers = pd.read_sql(\"SELECT * FROM data_2nf;\", conn)\n",
    "print(customers)\n",
    "#looks like the database is in 2nf"
   ]
  },
  {
   "cell_type": "code",
   "execution_count": 16,
   "id": "599d51da",
   "metadata": {},
   "outputs": [
    {
     "name": "stdout",
     "output_type": "stream",
     "text": [
      "   old_customers\n",
      "0           8457\n"
     ]
    }
   ],
   "source": [
    "old_customers = pd.read_sql(\"SELECT Count(*) as old_customers FROM data_2nf WHERE age >50;\", conn)\n",
    "print(old_customers)\n"
   ]
  },
  {
   "cell_type": "code",
   "execution_count": 15,
   "id": "6fe53dd6",
   "metadata": {},
   "outputs": [
    {
     "name": "stdout",
     "output_type": "stream",
     "text": [
      "     balance     id\n",
      "0     102127  39990\n",
      "1      98417  26228\n",
      "2      81204  42559\n",
      "3      71188  41694\n",
      "4      66721  19786\n",
      "..       ...    ...\n",
      "765    10031  25172\n",
      "766    10021  26352\n",
      "767    10005  15206\n",
      "768    10005  18583\n",
      "769    10005  32058\n",
      "\n",
      "[770 rows x 2 columns]\n"
     ]
    }
   ],
   "source": [
    "rich_customers = pd.read_sql(\"SELECT balance, id FROM data_2nf WHERE balance >10000 ORDER BY balance DESC;\", conn)\n",
    "print(rich_customers)"
   ]
  },
  {
   "cell_type": "code",
   "execution_count": 17,
   "id": "2f55b921",
   "metadata": {},
   "outputs": [
    {
     "data": {
      "text/html": [
       "<div>\n",
       "<style scoped>\n",
       "    .dataframe tbody tr th:only-of-type {\n",
       "        vertical-align: middle;\n",
       "    }\n",
       "\n",
       "    .dataframe tbody tr th {\n",
       "        vertical-align: top;\n",
       "    }\n",
       "\n",
       "    .dataframe thead th {\n",
       "        text-align: right;\n",
       "    }\n",
       "</style>\n",
       "<table border=\"1\" class=\"dataframe\">\n",
       "  <thead>\n",
       "    <tr style=\"text-align: right;\">\n",
       "      <th></th>\n",
       "      <th>age</th>\n",
       "      <th>balance</th>\n",
       "      <th>day</th>\n",
       "      <th>duration</th>\n",
       "      <th>campaign</th>\n",
       "      <th>pdays</th>\n",
       "      <th>previous</th>\n",
       "      <th>id</th>\n",
       "    </tr>\n",
       "  </thead>\n",
       "  <tbody>\n",
       "    <tr>\n",
       "      <th>count</th>\n",
       "      <td>42639.000000</td>\n",
       "      <td>42639.000000</td>\n",
       "      <td>42639.000000</td>\n",
       "      <td>42639.000000</td>\n",
       "      <td>42639.000000</td>\n",
       "      <td>42639.000000</td>\n",
       "      <td>42639.000000</td>\n",
       "      <td>42639.000000</td>\n",
       "    </tr>\n",
       "    <tr>\n",
       "      <th>mean</th>\n",
       "      <td>40.788808</td>\n",
       "      <td>1331.863951</td>\n",
       "      <td>15.854781</td>\n",
       "      <td>255.957504</td>\n",
       "      <td>2.816412</td>\n",
       "      <td>34.169141</td>\n",
       "      <td>0.465442</td>\n",
       "      <td>21320.000000</td>\n",
       "    </tr>\n",
       "    <tr>\n",
       "      <th>std</th>\n",
       "      <td>10.200236</td>\n",
       "      <td>3011.537676</td>\n",
       "      <td>8.293901</td>\n",
       "      <td>258.361368</td>\n",
       "      <td>3.163564</td>\n",
       "      <td>92.041713</td>\n",
       "      <td>2.166705</td>\n",
       "      <td>12308.963401</td>\n",
       "    </tr>\n",
       "    <tr>\n",
       "      <th>min</th>\n",
       "      <td>18.000000</td>\n",
       "      <td>-8019.000000</td>\n",
       "      <td>1.000000</td>\n",
       "      <td>0.000000</td>\n",
       "      <td>1.000000</td>\n",
       "      <td>-1.000000</td>\n",
       "      <td>0.000000</td>\n",
       "      <td>1.000000</td>\n",
       "    </tr>\n",
       "    <tr>\n",
       "      <th>25%</th>\n",
       "      <td>33.000000</td>\n",
       "      <td>62.000000</td>\n",
       "      <td>8.000000</td>\n",
       "      <td>101.000000</td>\n",
       "      <td>1.000000</td>\n",
       "      <td>-1.000000</td>\n",
       "      <td>0.000000</td>\n",
       "      <td>10660.500000</td>\n",
       "    </tr>\n",
       "    <tr>\n",
       "      <th>50%</th>\n",
       "      <td>39.000000</td>\n",
       "      <td>429.000000</td>\n",
       "      <td>16.000000</td>\n",
       "      <td>177.000000</td>\n",
       "      <td>2.000000</td>\n",
       "      <td>-1.000000</td>\n",
       "      <td>0.000000</td>\n",
       "      <td>21320.000000</td>\n",
       "    </tr>\n",
       "    <tr>\n",
       "      <th>75%</th>\n",
       "      <td>48.000000</td>\n",
       "      <td>1381.500000</td>\n",
       "      <td>21.000000</td>\n",
       "      <td>315.000000</td>\n",
       "      <td>3.000000</td>\n",
       "      <td>-1.000000</td>\n",
       "      <td>0.000000</td>\n",
       "      <td>31979.500000</td>\n",
       "    </tr>\n",
       "    <tr>\n",
       "      <th>max</th>\n",
       "      <td>95.000000</td>\n",
       "      <td>102127.000000</td>\n",
       "      <td>31.000000</td>\n",
       "      <td>4918.000000</td>\n",
       "      <td>63.000000</td>\n",
       "      <td>536.000000</td>\n",
       "      <td>275.000000</td>\n",
       "      <td>42639.000000</td>\n",
       "    </tr>\n",
       "  </tbody>\n",
       "</table>\n",
       "</div>"
      ],
      "text/plain": [
       "                age        balance           day      duration      campaign  \\\n",
       "count  42639.000000   42639.000000  42639.000000  42639.000000  42639.000000   \n",
       "mean      40.788808    1331.863951     15.854781    255.957504      2.816412   \n",
       "std       10.200236    3011.537676      8.293901    258.361368      3.163564   \n",
       "min       18.000000   -8019.000000      1.000000      0.000000      1.000000   \n",
       "25%       33.000000      62.000000      8.000000    101.000000      1.000000   \n",
       "50%       39.000000     429.000000     16.000000    177.000000      2.000000   \n",
       "75%       48.000000    1381.500000     21.000000    315.000000      3.000000   \n",
       "max       95.000000  102127.000000     31.000000   4918.000000     63.000000   \n",
       "\n",
       "              pdays      previous            id  \n",
       "count  42639.000000  42639.000000  42639.000000  \n",
       "mean      34.169141      0.465442  21320.000000  \n",
       "std       92.041713      2.166705  12308.963401  \n",
       "min       -1.000000      0.000000      1.000000  \n",
       "25%       -1.000000      0.000000  10660.500000  \n",
       "50%       -1.000000      0.000000  21320.000000  \n",
       "75%       -1.000000      0.000000  31979.500000  \n",
       "max      536.000000    275.000000  42639.000000  "
      ]
     },
     "execution_count": 17,
     "metadata": {},
     "output_type": "execute_result"
    }
   ],
   "source": [
    "# Now we visualise data \n",
    "df.describe()"
   ]
  },
  {
   "cell_type": "code",
   "execution_count": 23,
   "id": "ab59fc1c",
   "metadata": {},
   "outputs": [
    {
     "data": {
      "image/png": "[encoded data removed]",
      "text/plain": [
       "<Figure size 640x480 with 1 Axes>"
      ]
     },
     "metadata": {},
     "output_type": "display_data"
    }
   ],
   "source": [
    "#plot of age against balance\n",
    "from matplotlib import pyplot as plt\n",
    "plt.scatter(df['age'], df['balance'])\n",
    "plt.show()\n",
    "#looks like no direct correlation against age and balance "
   ]
  },
  {
   "cell_type": "code",
   "execution_count": 22,
   "id": "26f82a82",
   "metadata": {},
   "outputs": [
    {
     "data": {
      "text/plain": [
       "(array([3.7452e+04, 4.8240e+03, 2.7800e+02, 4.9000e+01, 2.0000e+01,\n",
       "        6.0000e+00, 6.0000e+00, 1.0000e+00, 1.0000e+00, 2.0000e+00]),\n",
       " array([ -8019. ,   2995.6,  14010.2,  25024.8,  36039.4,  47054. ,\n",
       "         58068.6,  69083.2,  80097.8,  91112.4, 102127. ]),\n",
       " <BarContainer object of 10 artists>)"
      ]
     },
     "execution_count": 22,
     "metadata": {},
     "output_type": "execute_result"
    },
    {
     "data": {
      "image/png": "[encoded data removed]",
      "text/plain": [
       "<Figure size 640x480 with 1 Axes>"
      ]
     },
     "metadata": {},
     "output_type": "display_data"
    }
   ],
   "source": [
    "plt.hist(df['balance'])\n",
    "#Most people have 0 balance, kinda sad"
   ]
  },
  {
   "cell_type": "code",
   "execution_count": 29,
   "id": "46de53de",
   "metadata": {},
   "outputs": [
    {
     "data": {
      "text/plain": [
       "(array([3.7461e+04, 4.1160e+03, 8.2600e+02, 1.7000e+02, 4.2000e+01,\n",
       "        1.1000e+01, 1.1000e+01, 1.0000e+00, 0.0000e+00, 1.0000e+00]),\n",
       " array([   0. ,  491.8,  983.6, 1475.4, 1967.2, 2459. , 2950.8, 3442.6,\n",
       "        3934.4, 4426.2, 4918. ]),\n",
       " <BarContainer object of 10 artists>)"
      ]
     },
     "execution_count": 29,
     "metadata": {},
     "output_type": "execute_result"
    },
    {
     "data": {
      "image/png": "[encoded data removed]",
      "text/plain": [
       "<Figure size 640x480 with 1 Axes>"
      ]
     },
     "metadata": {},
     "output_type": "display_data"
    }
   ],
   "source": [
    "plt.hist(df['duration'])\n",
    "# Most pople have not kept their account for a long time!"
   ]
  },
  {
   "cell_type": "code",
   "execution_count": 32,
   "id": "df2cceb9",
   "metadata": {},
   "outputs": [
    {
     "data": {
      "image/png": "[encoded data removed]",
      "text/plain": [
       "<Figure size 640x480 with 1 Axes>"
      ]
     },
     "metadata": {},
     "output_type": "display_data"
    },
    {
     "data": {
      "image/png": "[encoded data removed]",
      "text/plain": [
       "<Figure size 640x480 with 1 Axes>"
      ]
     },
     "metadata": {},
     "output_type": "display_data"
    }
   ],
   "source": [
    "married_customers = pd.read_sql('SELECT * FROM data_2nf WHERE marital = \"married\" ORDER BY balance DESC;', conn)\n",
    "single_customers = pd.read_sql('SELECT * FROM data_2nf WHERE marital = \"single\" ORDER BY balance DESC;', conn)\n",
    "\n",
    "plt.hist(married_customers['duration'])\n",
    "plt.show()\n",
    "plt.hist(single_customers['duration'])\n",
    "plt.show()\n",
    "#There is slightly more positive skew towards single customers keeping their accounts longer"
   ]
  },
  {
   "cell_type": "code",
   "execution_count": 34,
   "id": "a374b895",
   "metadata": {},
   "outputs": [
    {
     "name": "stdout",
     "output_type": "stream",
     "text": [
      "               age   balance       day  duration  campaign     pdays  \\\n",
      "age       1.000000  0.088716 -0.009869 -0.016529  0.008296 -0.044165   \n",
      "balance   0.088716  1.000000  0.004696  0.016721 -0.013358 -0.006797   \n",
      "day      -0.009869  0.004696  1.000000 -0.032557  0.165906 -0.101391   \n",
      "duration -0.016529  0.016721 -0.032557  1.000000 -0.085640 -0.010812   \n",
      "campaign  0.008296 -0.013358  0.165906 -0.085640  1.000000 -0.079981   \n",
      "pdays    -0.044165 -0.006797 -0.101391 -0.010812 -0.079981  1.000000   \n",
      "previous -0.016279  0.005194 -0.048445 -0.007730 -0.024374  0.450869   \n",
      "id       -0.008555  0.065374 -0.058495 -0.001111 -0.082718  0.414655   \n",
      "\n",
      "          previous        id  \n",
      "age      -0.016279 -0.008555  \n",
      "balance   0.005194  0.065374  \n",
      "day      -0.048445 -0.058495  \n",
      "duration -0.007730 -0.001111  \n",
      "campaign -0.024374 -0.082718  \n",
      "pdays     0.450869  0.414655  \n",
      "previous  1.000000  0.226062  \n",
      "id        0.226062  1.000000  \n"
     ]
    }
   ],
   "source": [
    "print(df.corr())"
   ]
  },
  {
   "cell_type": "code",
   "execution_count": null,
   "id": "76bf49f0",
   "metadata": {},
   "outputs": [],
   "source": [
    "#What features do I need to cluster?\n",
    "#I think age, pdays, previous, day and campaing, just from a quick glance\n",
    "features = ['age', 'pdays', 'previous', 'day', 'campaign']"
   ]
  }
 ],
 "metadata": {
  "kernelspec": {
   "display_name": "Python 3 (ipykernel)",
   "language": "python",
   "name": "python3"
  },
  "language_info": {
   "codemirror_mode": {
    "name": "ipython",
    "version": 3
   },
   "file_extension": ".py",
   "mimetype": "text/x-python",
   "name": "python",
   "nbconvert_exporter": "python",
   "pygments_lexer": "ipython3",
   "version": "3.7.9"
  }
 },
 "nbformat": 4,
 "nbformat_minor": 5
}
