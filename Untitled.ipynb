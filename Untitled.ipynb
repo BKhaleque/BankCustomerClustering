{
 "cells": [
  {
   "cell_type": "code",
   "execution_count": 33,
   "id": "8e00c788",
   "metadata": {},
   "outputs": [
    {
     "name": "stdout",
     "output_type": "stream",
     "text": [
      "3.31.1\n"
     ]
    }
   ],
   "source": [
    "import sqlite3\n",
    "\n",
    "def create_sqlite_database(filename):\n",
    "    \"\"\" create a database connection to an SQLite database \"\"\"\n",
    "    conn = None\n",
    "    try:\n",
    "        conn = sqlite3.connect(filename)\n",
    "        print(sqlite3.sqlite_version)\n",
    "    except sqlite3.Error as e:\n",
    "        print(e)\n",
    "    finally:\n",
    "        if conn:\n",
    "            conn.close()\n",
    "\n",
    "\n",
    "create_sqlite_database(\"my.db\")"
   ]
  },
  {
   "cell_type": "code",
   "execution_count": 69,
   "id": "db658b5a",
   "metadata": {},
   "outputs": [
    {
     "ename": "TypeError",
     "evalue": "int() argument must be a string, a bytes-like object or a number, not 'RangeIndex'",
     "output_type": "error",
     "traceback": [
      "\u001b[1;31m---------------------------------------------------------------------------\u001b[0m",
      "\u001b[1;31mTypeError\u001b[0m                                 Traceback (most recent call last)",
      "\u001b[1;32m~\\AppData\\Local\\Temp\\ipykernel_12512\\3674992882.py\u001b[0m in \u001b[0;36m<module>\u001b[1;34m\u001b[0m\n\u001b[0;32m      3\u001b[0m \u001b[1;33m\u001b[0m\u001b[0m\n\u001b[0;32m      4\u001b[0m \u001b[0mdf\u001b[0m \u001b[1;33m=\u001b[0m \u001b[0mpd\u001b[0m\u001b[1;33m.\u001b[0m\u001b[0mread_csv\u001b[0m\u001b[1;33m(\u001b[0m\u001b[0mdataPath\u001b[0m\u001b[1;33m)\u001b[0m\u001b[1;33m\u001b[0m\u001b[1;33m\u001b[0m\u001b[0m\n\u001b[1;32m----> 5\u001b[1;33m \u001b[0mdf\u001b[0m\u001b[1;33m[\u001b[0m\u001b[1;34m\"id\"\u001b[0m\u001b[1;33m]\u001b[0m \u001b[1;33m=\u001b[0m \u001b[0mint\u001b[0m\u001b[1;33m(\u001b[0m\u001b[0mdf\u001b[0m\u001b[1;33m.\u001b[0m\u001b[0mindex\u001b[0m \u001b[1;33m+\u001b[0m \u001b[1;36m1\u001b[0m\u001b[1;33m)\u001b[0m\u001b[1;33m\u001b[0m\u001b[1;33m\u001b[0m\u001b[0m\n\u001b[0m\u001b[0;32m      6\u001b[0m \u001b[0mprint\u001b[0m\u001b[1;33m(\u001b[0m\u001b[0mdf\u001b[0m\u001b[1;33m)\u001b[0m\u001b[1;33m\u001b[0m\u001b[1;33m\u001b[0m\u001b[0m\n",
      "\u001b[1;31mTypeError\u001b[0m: int() argument must be a string, a bytes-like object or a number, not 'RangeIndex'"
     ]
    }
   ],
   "source": [
    "import pandas as pd\n",
    "dataPath = 'BankCustomerData.csv'\n",
    "\n",
    "df = pd.read_csv(dataPath)\n",
    "df[\"id\"] = df.index + 1\n",
    "print(df)"
   ]
  },
  {
   "cell_type": "code",
   "execution_count": 74,
   "id": "82dc2d45",
   "metadata": {},
   "outputs": [],
   "source": [
    "conn = sqlite3.connect(\"my.db\")\n",
    "sql_data = df.to_sql(name = \"data_2nf\", con = conn, if_exists='replace', index=True, index_label = \"id\")\n"
   ]
  },
  {
   "cell_type": "code",
   "execution_count": 75,
   "id": "661b4766",
   "metadata": {},
   "outputs": [],
   "source": [
    "tables = pd.read_sql(\"\"\" SELECT * FROM sqlite_master WHERE type = 'table'; \"\"\", conn)"
   ]
  },
  {
   "cell_type": "code",
   "execution_count": 76,
   "id": "e32a10fc",
   "metadata": {},
   "outputs": [
    {
     "name": "stdout",
     "output_type": "stream",
     "text": [
      "    type      name  tbl_name  rootpage  \\\n",
      "0  table         t         t         2   \n",
      "1  table      data      data         3   \n",
      "2  table       job       job      1740   \n",
      "3  table  data_2nf  data_2nf      4359   \n",
      "\n",
      "                                                 sql  \n",
      "0                        CREATE TABLE t (col1, col2)  \n",
      "1  CREATE TABLE \"data\" (\\n\"age\" INTEGER,\\n  \"job\"...  \n",
      "2  CREATE TABLE \"job\" (\\n\"age\" INTEGER,\\n  \"job\" ...  \n",
      "3  CREATE TABLE \"data_2nf\" (\\n\"id\" INTEGER,\\n  \"a...  \n"
     ]
    }
   ],
   "source": [
    "print(tables)"
   ]
  },
  {
   "cell_type": "code",
   "execution_count": 78,
   "id": "1ecb9586",
   "metadata": {},
   "outputs": [
    {
     "name": "stdout",
     "output_type": "stream",
     "text": [
      "          id  age           job  marital  education default  balance housing  \\\n",
      "0          0   58    management  married   tertiary      no     2143     yes   \n",
      "1          1   44    technician   single  secondary      no       29     yes   \n",
      "2          2   33  entrepreneur  married  secondary      no        2     yes   \n",
      "3          3   47   blue-collar  married    unknown      no     1506     yes   \n",
      "4          4   33       unknown   single    unknown      no        1      no   \n",
      "...      ...  ...           ...      ...        ...     ...      ...     ...   \n",
      "42634  42634   21       student   single  secondary      no     2488      no   \n",
      "42635  42635   87       retired  married    primary      no     2190      no   \n",
      "42636  42636   34   blue-collar  married    primary      no     6718      no   \n",
      "42637  42637   22       student   single  secondary      no      254      no   \n",
      "42638  42638   32    management   single   tertiary      no     1962      no   \n",
      "\n",
      "      loan    contact  day month  duration  campaign  pdays  previous  \\\n",
      "0       no    unknown    5   may       261         1     -1         0   \n",
      "1       no    unknown    5   may       151         1     -1         0   \n",
      "2      yes    unknown    5   may        76         1     -1         0   \n",
      "3       no    unknown    5   may        92         1     -1         0   \n",
      "4       no    unknown    5   may       198         1     -1         0   \n",
      "...    ...        ...  ...   ...       ...       ...    ...       ...   \n",
      "42634   no  telephone   12   jan       661         2     92         1   \n",
      "42635   no  telephone   12   jan       512         2     -1         0   \n",
      "42636   no   cellular   13   jan       278         4     97         1   \n",
      "42637   no   cellular   13   jan       143         2     -1         0   \n",
      "42638   no   cellular   13   jan       130         1     -1         0   \n",
      "\n",
      "      poutcome term_deposit  \n",
      "0      unknown           no  \n",
      "1      unknown           no  \n",
      "2      unknown           no  \n",
      "3      unknown           no  \n",
      "4      unknown           no  \n",
      "...        ...          ...  \n",
      "42634  success          yes  \n",
      "42635  unknown          yes  \n",
      "42636    other           no  \n",
      "42637  unknown          yes  \n",
      "42638  unknown           no  \n",
      "\n",
      "[42639 rows x 18 columns]\n"
     ]
    }
   ],
   "source": [
    "customers = pd.read_sql(\"SELECT * FROM data_2nf;\", conn)\n",
    "print(customers)\n",
    "#looks like the database is in 2nf"
   ]
  },
  {
   "cell_type": "code",
   "execution_count": 79,
   "id": "599d51da",
   "metadata": {},
   "outputs": [
    {
     "name": "stdout",
     "output_type": "stream",
     "text": [
      "         id  age            job   marital  education default  balance housing  \\\n",
      "0         0   58     management   married   tertiary      no     2143     yes   \n",
      "1         8   58        retired   married    primary      no      121     yes   \n",
      "2        12   53     technician   married  secondary      no        6     yes   \n",
      "3        13   58     technician   married    unknown      no       71     yes   \n",
      "4        14   57       services   married  secondary      no      162     yes   \n",
      "...     ...  ...            ...       ...        ...     ...      ...     ...   \n",
      "8452  42618   53         admin.  divorced   tertiary      no        0     yes   \n",
      "8453  42619   85        retired   married    unknown      no     1934      no   \n",
      "8454  42623   66  self-employed   married   tertiary      no      147      no   \n",
      "8455  42625   66        retired    single   tertiary      no        0      no   \n",
      "8456  42635   87        retired   married    primary      no     2190      no   \n",
      "\n",
      "     loan    contact  day month  duration  campaign  pdays  previous poutcome  \\\n",
      "0      no    unknown    5   may       261         1     -1         0  unknown   \n",
      "1      no    unknown    5   may        50         1     -1         0  unknown   \n",
      "2      no    unknown    5   may       517         1     -1         0  unknown   \n",
      "3      no    unknown    5   may        71         1     -1         0  unknown   \n",
      "4      no    unknown    5   may       174         1     -1         0  unknown   \n",
      "...   ...        ...  ...   ...       ...       ...    ...       ...      ...   \n",
      "8452  yes   cellular   12   jan       171         1     64         6    other   \n",
      "8453   no  telephone   12   jan       140         1     -1         0  unknown   \n",
      "8454   no  telephone   12   jan       411         1     -1         0  unknown   \n",
      "8455   no   cellular   12   jan       105         1     92         2  failure   \n",
      "8456   no  telephone   12   jan       512         2     -1         0  unknown   \n",
      "\n",
      "     term_deposit  \n",
      "0              no  \n",
      "1              no  \n",
      "2              no  \n",
      "3              no  \n",
      "4              no  \n",
      "...           ...  \n",
      "8452           no  \n",
      "8453           no  \n",
      "8454          yes  \n",
      "8455           no  \n",
      "8456          yes  \n",
      "\n",
      "[8457 rows x 18 columns]\n"
     ]
    }
   ],
   "source": [
    "old_customers = pd.read_sql(\"SELECT * FROM data_2nf WHERE age >50;\", conn)\n",
    "print(old_customers)\n"
   ]
  },
  {
   "cell_type": "code",
   "execution_count": 82,
   "id": "6fe53dd6",
   "metadata": {},
   "outputs": [
    {
     "name": "stdout",
     "output_type": "stream",
     "text": [
      "     balance     id\n",
      "0      10635     34\n",
      "1      12223     69\n",
      "2      24598    334\n",
      "3      45248    446\n",
      "4      58544    920\n",
      "..       ...    ...\n",
      "765    12018  42540\n",
      "766    10788  42548\n",
      "767    81204  42558\n",
      "768    11303  42571\n",
      "769    14533  42590\n",
      "\n",
      "[770 rows x 2 columns]\n"
     ]
    }
   ],
   "source": [
    "rich_customers = pd.read_sql(\"SELECT balance, id FROM data_2nf WHERE balance >10000;\", conn)\n",
    "print(rich_customers)"
   ]
  },
  {
   "cell_type": "code",
   "execution_count": null,
   "id": "2f55b921",
   "metadata": {},
   "outputs": [],
   "source": []
  }
 ],
 "metadata": {
  "kernelspec": {
   "display_name": "Python 3 (ipykernel)",
   "language": "python",
   "name": "python3"
  },
  "language_info": {
   "codemirror_mode": {
    "name": "ipython",
    "version": 3
   },
   "file_extension": ".py",
   "mimetype": "text/x-python",
   "name": "python",
   "nbconvert_exporter": "python",
   "pygments_lexer": "ipython3",
   "version": "3.7.9"
  }
 },
 "nbformat": 4,
 "nbformat_minor": 5
}
